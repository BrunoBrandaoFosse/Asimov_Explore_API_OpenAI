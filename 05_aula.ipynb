{
 "cells": [
  {
   "cell_type": "markdown",
   "id": "8791d257",
   "metadata": {},
   "source": [
    "# Utilizando o ChatGPT para gerar textos"
   ]
  },
  {
   "cell_type": "code",
   "execution_count": 1,
   "id": "6e783aba",
   "metadata": {},
   "outputs": [],
   "source": [
    "import os\n",
    "from dotenv import load_dotenv\n",
    "from openai import OpenAI\n",
    "\n",
    "load_dotenv() # Carrega as variáveis do arquivo .env\n",
    "\n",
    "openai_api_key = os.getenv(\"OPENAI_API_KEY\")\n",
    "if openai_api_key is None:\n",
    "    raise ValueError(\"A chave da API não foi encontrada no arquivo .env.\")\n",
    "\n",
    "client = OpenAI(api_key=openai_api_key)"
   ]
  },
  {
   "cell_type": "code",
   "execution_count": 2,
   "id": "87292395",
   "metadata": {},
   "outputs": [],
   "source": [
    "mensagens = [{\n",
    "  'role': 'user',\n",
    "  'content': 'O que é uma maça em 5 palavras?'\n",
    "}]\n",
    "\n",
    "resposta = client.chat.completions.create(\n",
    "    model=\"gpt-3.5-turbo\",\n",
    "    messages=mensagens,\n",
    "    max_tokens=10,\n",
    "    temperature=0,\n",
    ")"
   ]
  },
  {
   "cell_type": "code",
   "execution_count": 3,
   "id": "76228a43",
   "metadata": {},
   "outputs": [
    {
     "data": {
      "text/plain": [
       "'Fruta redonda e saborosa.'"
      ]
     },
     "execution_count": 3,
     "metadata": {},
     "output_type": "execute_result"
    }
   ],
   "source": [
    "resposta.choices[0].message.content"
   ]
  },
  {
   "cell_type": "code",
   "execution_count": 4,
   "id": "736eebe2",
   "metadata": {},
   "outputs": [],
   "source": [
    "mensagens.append({\n",
    "  'role': 'assistant',\n",
    "  'content': resposta.choices[0].message.content\n",
    "})"
   ]
  },
  {
   "cell_type": "code",
   "execution_count": 5,
   "id": "9ca3cf83",
   "metadata": {},
   "outputs": [
    {
     "data": {
      "text/plain": [
       "[{'role': 'user', 'content': 'O que é uma maça em 5 palavras?'},\n",
       " {'role': 'assistant', 'content': 'Fruta redonda e saborosa.'}]"
      ]
     },
     "execution_count": 5,
     "metadata": {},
     "output_type": "execute_result"
    }
   ],
   "source": [
    "mensagens"
   ]
  },
  {
   "cell_type": "code",
   "execution_count": 6,
   "id": "e6a87d1d",
   "metadata": {},
   "outputs": [],
   "source": [
    "mensagens.append({\n",
    "  'role': 'user',\n",
    "  'content': 'E qual é a sua cor?'\n",
    "})"
   ]
  },
  {
   "cell_type": "code",
   "execution_count": 7,
   "id": "edeae0ad",
   "metadata": {},
   "outputs": [
    {
     "data": {
      "text/plain": [
       "[{'role': 'user', 'content': 'O que é uma maça em 5 palavras?'},\n",
       " {'role': 'assistant', 'content': 'Fruta redonda e saborosa.'},\n",
       " {'role': 'user', 'content': 'E qual é a sua cor?'}]"
      ]
     },
     "execution_count": 7,
     "metadata": {},
     "output_type": "execute_result"
    }
   ],
   "source": [
    "mensagens"
   ]
  },
  {
   "cell_type": "code",
   "execution_count": 8,
   "id": "fec74e66",
   "metadata": {},
   "outputs": [],
   "source": [
    "resposta = client.chat.completions.create(\n",
    "    model=\"gpt-3.5-turbo\",\n",
    "    messages=mensagens,\n",
    "    max_tokens=10,\n",
    "    temperature=0,\n",
    ")"
   ]
  },
  {
   "cell_type": "code",
   "execution_count": 9,
   "id": "c374f099",
   "metadata": {},
   "outputs": [
    {
     "data": {
      "text/plain": [
       "'Vermelha, verde ou amarela'"
      ]
     },
     "execution_count": 9,
     "metadata": {},
     "output_type": "execute_result"
    }
   ],
   "source": [
    "resposta.choices[0].message.content"
   ]
  },
  {
   "cell_type": "markdown",
   "id": "57dbcaab",
   "metadata": {},
   "source": [
    "## Adicionando a uma função"
   ]
  },
  {
   "cell_type": "code",
   "execution_count": 17,
   "id": "fdacf16f",
   "metadata": {},
   "outputs": [],
   "source": [
    "def geracao_texto(mensagens, model=\"gpt-3.5-turbo\", max_tokens=1000, temperature=0):\n",
    "  resposta = client.chat.completions.create(\n",
    "    model=model,\n",
    "    messages=mensagens,\n",
    "    max_tokens=max_tokens,\n",
    "    temperature=temperature,\n",
    "  )\n",
    "  print(resposta.choices[0].message.content)\n",
    "  mensagens.append({\n",
    "    'role': 'assistant',\n",
    "    'content': resposta.choices[0].message.content\n",
    "  })\n",
    "  return mensagens"
   ]
  },
  {
   "cell_type": "code",
   "execution_count": 18,
   "id": "9bd3023c",
   "metadata": {},
   "outputs": [
    {
     "name": "stdout",
     "output_type": "stream",
     "text": [
      "Fruta redonda e saborosa.\n"
     ]
    }
   ],
   "source": [
    "mensagens = [{\n",
    "  'role': 'user',\n",
    "  'content': 'O que é uma maça em 5 palavras?'\n",
    "}]\n",
    "\n",
    "mensagens = geracao_texto(mensagens)"
   ]
  },
  {
   "cell_type": "code",
   "execution_count": 19,
   "id": "db41dfe4",
   "metadata": {},
   "outputs": [
    {
     "data": {
      "text/plain": [
       "[{'role': 'user', 'content': 'O que é uma maça em 5 palavras?'},\n",
       " {'role': 'assistant', 'content': 'Fruta redonda e saborosa.'}]"
      ]
     },
     "execution_count": 19,
     "metadata": {},
     "output_type": "execute_result"
    }
   ],
   "source": [
    "mensagens"
   ]
  },
  {
   "cell_type": "markdown",
   "id": "42e0aa96",
   "metadata": {},
   "source": [
    "## Explorando max_tokens e temperature"
   ]
  },
  {
   "cell_type": "code",
   "execution_count": 21,
   "id": "7dd21013",
   "metadata": {},
   "outputs": [
    {
     "name": "stdout",
     "output_type": "stream",
     "text": [
      "Fruta\n"
     ]
    }
   ],
   "source": [
    "mensagens = [{\n",
    "  'role': 'user',\n",
    "  'content': 'O que é uma maça em 5 palavras?'\n",
    "}]\n",
    "mensagens = geracao_texto(mensagens=mensagens, max_tokens=2)"
   ]
  },
  {
   "cell_type": "code",
   "execution_count": 29,
   "id": "dfbf7d61",
   "metadata": {},
   "outputs": [
    {
     "name": "stdout",
     "output_type": "stream",
     "text": [
      "Fruta vermelha, suculenta e doce.\n"
     ]
    }
   ],
   "source": [
    "mensagens = [{\n",
    "  'role': 'user',\n",
    "  'content': 'O que é uma maça em 5 palavras?'\n",
    "}]\n",
    "mensagens = geracao_texto(mensagens=mensagens, temperature=1)"
   ]
  }
 ],
 "metadata": {
  "language_info": {
   "name": "python"
  }
 },
 "nbformat": 4,
 "nbformat_minor": 5
}
