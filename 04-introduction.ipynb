{
 "cells": [
  {
   "cell_type": "code",
   "execution_count": 1,
   "id": "6e783aba",
   "metadata": {},
   "outputs": [],
   "source": [
    "import os\n",
    "from dotenv import load_dotenv\n",
    "from openai import OpenAI\n",
    "\n",
    "load_dotenv() # Carrega as variáveis do arquivo .env\n",
    "\n",
    "openai_api_key = os.getenv(\"OPENAI_API_KEY\")\n",
    "if openai_api_key is None:\n",
    "    raise ValueError(\"A chave da API não foi encontrada no arquivo .env.\")\n",
    "\n",
    "client = OpenAI(api_key=openai_api_key)"
   ]
  }
 ],
 "metadata": {
  "language_info": {
   "name": "python"
  }
 },
 "nbformat": 4,
 "nbformat_minor": 5
}
