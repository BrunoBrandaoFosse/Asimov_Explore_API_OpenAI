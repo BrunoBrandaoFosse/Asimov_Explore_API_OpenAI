{
 "cells": [
  {
   "cell_type": "code",
   "execution_count": 1,
   "id": "dc7b1534",
   "metadata": {},
   "outputs": [],
   "source": [
    "import os\n",
    "from dotenv import load_dotenv\n",
    "from openai import OpenAI\n",
    "\n",
    "load_dotenv() # Carrega as variáveis do arquivo .env\n",
    "\n",
    "openai_api_key = os.getenv(\"OPENAI_API_KEY\")\n",
    "if openai_api_key is None:\n",
    "    raise ValueError(\"A chave da API não foi encontrada no arquivo .env.\")\n",
    "\n",
    "client = OpenAI(api_key=openai_api_key)"
   ]
  },
  {
   "cell_type": "code",
   "execution_count": 19,
   "id": "6510639f",
   "metadata": {},
   "outputs": [],
   "source": [
    "mensagens = [{\n",
    "  'role': 'user',\n",
    "  'content': 'Crie uma história de dois parágrafos sobre uma viagem a Marte'\n",
    "}]\n",
    "\n",
    "resposta = client.chat.completions.create(\n",
    "    model=\"gpt-3.5-turbo\",\n",
    "    messages=mensagens,\n",
    "    max_tokens=10,\n",
    "    temperature=0,\n",
    "    stream=True,\n",
    ")"
   ]
  },
  {
   "cell_type": "code",
   "execution_count": 20,
   "id": "57ba9104",
   "metadata": {},
   "outputs": [
    {
     "name": "stdout",
     "output_type": "stream",
     "text": [
      "Em um futuro distante, a humanidade final\n",
      "\n",
      "Resposta completa:\n",
      "Em um futuro distante, a humanidade final\n"
     ]
    }
   ],
   "source": [
    "resposta_completa = \"\"\n",
    "\n",
    "for stream_resposta in resposta:\n",
    "  texto = stream_resposta.choices[0].delta.content\n",
    "  if texto:\n",
    "    print(texto, end='', flush=True)\n",
    "    resposta_completa += texto\n",
    "\n",
    "print(\"\\n\\nResposta completa:\")\n",
    "print(resposta_completa)"
   ]
  }
 ],
 "metadata": {
  "kernelspec": {
   "display_name": "venv",
   "language": "python",
   "name": "python3"
  },
  "language_info": {
   "codemirror_mode": {
    "name": "ipython",
    "version": 3
   },
   "file_extension": ".py",
   "mimetype": "text/x-python",
   "name": "python",
   "nbconvert_exporter": "python",
   "pygments_lexer": "ipython3",
   "version": "3.13.7"
  }
 },
 "nbformat": 4,
 "nbformat_minor": 5
}
